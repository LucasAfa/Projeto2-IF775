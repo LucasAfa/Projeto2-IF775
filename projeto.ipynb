{
  "nbformat": 4,
  "nbformat_minor": 0,
  "metadata": {
    "colab": {
      "name": "projeto.ipynb",
      "provenance": [],
      "collapsed_sections": [],
      "authorship_tag": "ABX9TyNLgaZfkzfYlKHBoIVPQmRc",
      "include_colab_link": true
    },
    "kernelspec": {
      "name": "python3",
      "display_name": "Python 3"
    }
  },
  "cells": [
    {
      "cell_type": "markdown",
      "metadata": {
        "id": "view-in-github",
        "colab_type": "text"
      },
      "source": [
        "<a href=\"https://colab.research.google.com/github/LucasAfa/Projeto2-IF775/blob/main/projeto.ipynb\" target=\"_parent\"><img src=\"https://colab.research.google.com/assets/colab-badge.svg\" alt=\"Open In Colab\"/></a>"
      ]
    },
    {
      "cell_type": "code",
      "metadata": {
        "id": "tYsTC_AKUCcj"
      },
      "source": [
        "import numpy as np\n",
        "import pandas as pd\n",
        "\n",
        "from scipy import stats\n",
        "import matplotlib.pyplot as plt\n",
        "import seaborn as sns\n",
        "import re\n",
        "import math\n",
        "\n",
        "import matplotlib.pyplot as plt\n",
        "from mpl_toolkits.mplot3d import Axes3D\n",
        "import numpy as np\n",
        "\n",
        "from sklearn.model_selection import train_test_split\n"
      ],
      "execution_count": 39,
      "outputs": []
    },
    {
      "cell_type": "code",
      "metadata": {
        "id": "_IJ6RJdkUGAc",
        "outputId": "6b819ff8-1b59-4483-dbc1-a8f750639cb3",
        "colab": {
          "base_uri": "https://localhost:8080/"
        }
      },
      "source": [
        "fifa20=pd.read_csv(\"https://raw.githubusercontent.com/LucasAfa/Projeto1-IF775/master/dbs/players_20.csv\", header=0)\n",
        "print(fifa20)"
      ],
      "execution_count": 40,
      "outputs": [
        {
          "output_type": "stream",
          "text": [
            "       sofifa_id                                         player_url  ...   rcb    rb\n",
            "0         158023  https://sofifa.com/player/158023/lionel-messi/...  ...  52+2  63+2\n",
            "1          20801  https://sofifa.com/player/20801/c-ronaldo-dos-...  ...  53+3  61+3\n",
            "2         190871  https://sofifa.com/player/190871/neymar-da-sil...  ...  46+3  61+3\n",
            "3         200389  https://sofifa.com/player/200389/jan-oblak/20/...  ...   NaN   NaN\n",
            "4         183277  https://sofifa.com/player/183277/eden-hazard/2...  ...  49+3  61+3\n",
            "...          ...                                                ...  ...   ...   ...\n",
            "18273     245006  https://sofifa.com/player/245006/shuai-shao/20...  ...  46+2  45+2\n",
            "18274     250995  https://sofifa.com/player/250995/mingjie-xiao/...  ...  47+2  46+2\n",
            "18275     252332  https://sofifa.com/player/252332/wei-zhang/20/...  ...  49+2  47+2\n",
            "18276     251110  https://sofifa.com/player/251110/haijian-wang/...  ...  49+2  48+2\n",
            "18277     233449  https://sofifa.com/player/233449/ximing-pan/20...  ...  50+2  48+2\n",
            "\n",
            "[18278 rows x 104 columns]\n"
          ],
          "name": "stdout"
        }
      ]
    },
    {
      "cell_type": "code",
      "metadata": {
        "id": "FTkQBeiofRph",
        "outputId": "4df3e20c-2f91-43e8-a7f0-37a0e981b7b5",
        "colab": {
          "base_uri": "https://localhost:8080/"
        }
      },
      "source": [
        "fifa20 = fifa20[(fifa20['team_position'] != \"GK\")]\n",
        "print(fifa20)"
      ],
      "execution_count": 63,
      "outputs": [
        {
          "output_type": "stream",
          "text": [
            "       sofifa_id  age  height_cm  ...  goalkeeping_reflexes  country_code  club_code\n",
            "0         158023   32        170  ...                     8             5        224\n",
            "1          20801   34        187  ...                    11           121        350\n",
            "2         190871   27        175  ...                    11            18        462\n",
            "3         200389   26        188  ...                    89           133         63\n",
            "4         183277   28        175  ...                     8            12        505\n",
            "...          ...  ...        ...  ...                   ...           ...        ...\n",
            "18273     245006   22        186  ...                    14            28         79\n",
            "18274     250995   22        177  ...                     9            28        574\n",
            "18275     252332   19        186  ...                    14            28        317\n",
            "18276     251110   18        185  ...                    13            28        573\n",
            "18277     233449   26        182  ...                    10            28        317\n",
            "\n",
            "[18278 rows x 64 columns]\n"
          ],
          "name": "stdout"
        }
      ]
    },
    {
      "cell_type": "code",
      "metadata": {
        "id": "U0LPmeyJXUWr",
        "outputId": "95f4a95f-fdf0-4328-b4a3-9b529b697d6d",
        "colab": {
          "base_uri": "https://localhost:8080/"
        }
      },
      "source": [
        "fifa20['nationality'] = fifa20['nationality'].astype('category')\n",
        "fifa20['club'] = fifa20['club'].astype('category')\n",
        "fifa20['team_position'] = fifa20['team_position'].astype('category')\n",
        "\n",
        "fifa20['team_position'] = fifa20['team_position'].cat.codes\n",
        "fifa20['country_code'] = fifa20['nationality'].cat.codes\n",
        "fifa20['club_code'] = fifa20['club'].cat.codes\n",
        "fifa20 = fifa20._get_numeric_data()\n",
        "print(fifa20)\n",
        "\n",
        "\n"
      ],
      "execution_count": 41,
      "outputs": [
        {
          "output_type": "stream",
          "text": [
            "       sofifa_id  age  height_cm  ...  goalkeeping_reflexes  country_code  club_code\n",
            "0         158023   32        170  ...                     8             5        224\n",
            "1          20801   34        187  ...                    11           121        350\n",
            "2         190871   27        175  ...                    11            18        462\n",
            "3         200389   26        188  ...                    89           133         63\n",
            "4         183277   28        175  ...                     8            12        505\n",
            "...          ...  ...        ...  ...                   ...           ...        ...\n",
            "18273     245006   22        186  ...                    14            28         79\n",
            "18274     250995   22        177  ...                     9            28        574\n",
            "18275     252332   19        186  ...                    14            28        317\n",
            "18276     251110   18        185  ...                    13            28        573\n",
            "18277     233449   26        182  ...                    10            28        317\n",
            "\n",
            "[18278 rows x 64 columns]\n"
          ],
          "name": "stdout"
        }
      ]
    },
    {
      "cell_type": "code",
      "metadata": {
        "id": "81ALfZo6WG7_",
        "outputId": "c4d43afe-86ef-4e6a-b3f9-04b26956bf09",
        "colab": {
          "base_uri": "https://localhost:8080/"
        }
      },
      "source": [
        "X, target = fifa20, fifa20['value_eur']\n",
        "\n",
        "X_train, X_test, target_train, target_test = train_test_split(X, target, \n",
        "                                                    train_size=0.7, \n",
        "                                                    random_state=9,\n",
        "                                                    )\n",
        "\n",
        "print(f\"Train labels:\\n{target_train}\")\n",
        "print(f\"Test labels:\\n{target_test}\")\n",
        "print(f\"Train labels:\\n{X_train}\")\n",
        "print(f\"Test labels:\\n{X_test}\")"
      ],
      "execution_count": 60,
      "outputs": [
        {
          "output_type": "stream",
          "text": [
            "Train labels:\n",
            "2127      9500000\n",
            "13205      550000\n",
            "14544      190000\n",
            "284      26500000\n",
            "13058      220000\n",
            "           ...   \n",
            "4532      1700000\n",
            "4673      1600000\n",
            "5014      2100000\n",
            "9979      1100000\n",
            "501       7000000\n",
            "Name: value_eur, Length: 12794, dtype: int64\n",
            "Test labels:\n",
            "7034      975000\n",
            "10743     170000\n",
            "6080     1200000\n",
            "15134     240000\n",
            "6133      875000\n",
            "          ...   \n",
            "10449     625000\n",
            "10333     725000\n",
            "17564      80000\n",
            "12449     575000\n",
            "3846     1900000\n",
            "Name: value_eur, Length: 5484, dtype: int64\n",
            "Train labels:\n",
            "       sofifa_id  age  height_cm  ...  goalkeeping_reflexes  country_code  club_code\n",
            "2127      228813   22        173  ...                     7           136        400\n",
            "13205     244218   19        190  ...                    64            12        352\n",
            "14544     178008   32        170  ...                    11            45        398\n",
            "284       216409   25        171  ...                    11            77        341\n",
            "13058     232465   33        169  ...                     7            80        655\n",
            "...          ...  ...        ...  ...                   ...           ...        ...\n",
            "4532      189061   29        187  ...                    70            57        589\n",
            "4673      212632   30        181  ...                    74            53        359\n",
            "5014      232364   26        193  ...                     7            60        694\n",
            "9979      243378   20        180  ...                    11            57        312\n",
            "501       164029   35        179  ...                    11            18        532\n",
            "\n",
            "[12794 rows x 64 columns]\n",
            "Test labels:\n",
            "       sofifa_id  age  height_cm  ...  goalkeeping_reflexes  country_code  club_code\n",
            "7034      211514   25        169  ...                     9            45        204\n",
            "10743     179856   37        168  ...                     8            45        629\n",
            "6080      233400   25        188  ...                    12           114        609\n",
            "15134     237436   24        171  ...                     5            80        692\n",
            "6133      234646   27        185  ...                    73             8        541\n",
            "...          ...  ...        ...  ...                   ...           ...        ...\n",
            "10449     231821   25        188  ...                    11           127         37\n",
            "10333     243881   24        178  ...                    12            57        397\n",
            "17564     223940   23        173  ...                    14           159        277\n",
            "12449     242799   23        179  ...                     7           136        114\n",
            "3846      192665   32        195  ...                    76            57        223\n",
            "\n",
            "[5484 rows x 64 columns]\n"
          ],
          "name": "stdout"
        }
      ]
    },
    {
      "cell_type": "code",
      "metadata": {
        "id": "mXdB-WGmbg_p",
        "outputId": "48ff0ab0-6a93-4377-d3e8-90fc69128cf8",
        "colab": {
          "base_uri": "https://localhost:8080/"
        }
      },
      "source": [
        "import numpy as np\n",
        "\n",
        "print(f\"Numbers of train instances by class: {np.bincount(target_train)}\")\n",
        "print(f\"Numbers of test instances by class: {np.bincount(target_test)}\")"
      ],
      "execution_count": 61,
      "outputs": [
        {
          "output_type": "stream",
          "text": [
            "Numbers of train instances by class: [175   0   0 ...   0   0   1]\n",
            "Numbers of test instances by class: [75  0  0 ...  0  0  1]\n"
          ],
          "name": "stdout"
        }
      ]
    },
    {
      "cell_type": "code",
      "metadata": {
        "id": "1HWFnsDUb8E9"
      },
      "source": [
        ""
      ],
      "execution_count": null,
      "outputs": []
    }
  ]
}